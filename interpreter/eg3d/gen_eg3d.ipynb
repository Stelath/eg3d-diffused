{
 "cells": [
  {
   "cell_type": "code",
   "execution_count": 1,
   "metadata": {},
   "outputs": [],
   "source": [
    "import torch\n",
    "import numpy as np\n",
    "import matplotlib.pyplot as plt\n",
    "import pickle\n",
    "import sys\n",
    "import os"
   ]
  },
  {
   "cell_type": "code",
   "execution_count": 2,
   "metadata": {},
   "outputs": [],
   "source": [
    "# Used https://machinelearningmastery.com/a-gentle-introduction-to-positional-encoding-in-transformer-models-part-1/\n",
    "def positionalEncoding(seq_len, d, n=10000):\n",
    "    p = np.zeros((seq_len, d))\n",
    "    for k in range(seq_len):\n",
    "        for i in np.arange(int(d/2)):\n",
    "            denominator = np.power(n, 2*i/d)\n",
    "            p[k, 2*i] = np.sin(k/denominator)\n",
    "            p[k, 2*i+1] = np.cos(k/denominator)\n",
    "    return p"
   ]
  },
  {
   "cell_type": "code",
   "execution_count": 3,
   "metadata": {},
   "outputs": [
    {
     "ename": "ModuleNotFoundError",
     "evalue": "No module named 'training'",
     "output_type": "error",
     "traceback": [
      "\u001b[0;31m---------------------------------------------------------------------------\u001b[0m",
      "\u001b[0;31mModuleNotFoundError\u001b[0m                       Traceback (most recent call last)",
      "Input \u001b[0;32mIn [3]\u001b[0m, in \u001b[0;36m<cell line: 7>\u001b[0;34m()\u001b[0m\n\u001b[1;32m      5\u001b[0m intrinsics \u001b[38;5;241m=\u001b[39m FOV_to_intrinsics(\u001b[38;5;241m18\u001b[39m, device\u001b[38;5;241m=\u001b[39mdevice)\n\u001b[1;32m      7\u001b[0m \u001b[38;5;28;01mwith\u001b[39;00m \u001b[38;5;28mopen\u001b[39m(\u001b[38;5;124m'\u001b[39m\u001b[38;5;124meg3d/eg3d_model/ffhqrebalanced512-128.pkl\u001b[39m\u001b[38;5;124m'\u001b[39m, \u001b[38;5;124m'\u001b[39m\u001b[38;5;124mrb\u001b[39m\u001b[38;5;124m'\u001b[39m) \u001b[38;5;28;01mas\u001b[39;00m f:\n\u001b[0;32m----> 8\u001b[0m     G \u001b[38;5;241m=\u001b[39m \u001b[43mpickle\u001b[49m\u001b[38;5;241;43m.\u001b[39;49m\u001b[43mload\u001b[49m\u001b[43m(\u001b[49m\u001b[43mf\u001b[49m\u001b[43m)\u001b[49m[\u001b[38;5;124m'\u001b[39m\u001b[38;5;124mG_ema\u001b[39m\u001b[38;5;124m'\u001b[39m]\u001b[38;5;241m.\u001b[39mcuda()  \u001b[38;5;66;03m# torch.nn.Module\u001b[39;00m\n\u001b[1;32m      9\u001b[0m c \u001b[38;5;241m=\u001b[39m torch\u001b[38;5;241m.\u001b[39mcat([cam2world_pose\u001b[38;5;241m.\u001b[39mreshape(\u001b[38;5;241m-\u001b[39m\u001b[38;5;241m1\u001b[39m, \u001b[38;5;241m16\u001b[39m), intrinsics\u001b[38;5;241m.\u001b[39mreshape(\u001b[38;5;241m-\u001b[39m\u001b[38;5;241m1\u001b[39m, \u001b[38;5;241m9\u001b[39m)], \u001b[38;5;241m1\u001b[39m) \u001b[38;5;66;03m# camera parameters\u001b[39;00m\n\u001b[1;32m     10\u001b[0m \u001b[38;5;66;03m# z = torch.randn([1, G.z_dim]).cuda()    # latent codes\u001b[39;00m\n",
      "\u001b[0;31mModuleNotFoundError\u001b[0m: No module named 'training'"
     ]
    }
   ],
   "source": [
    "# Generate EG3D Images\n",
    "from eg3d.camera_utils import LookAtPoseSampler, FOV_to_intrinsics\n",
    "device = 'cuda'\n",
    "cam2world_pose = LookAtPoseSampler.sample(3.14/2, 3.14/2, torch.tensor([0, 0, 0.2], device=device), radius=2.7, device=device)\n",
    "intrinsics = FOV_to_intrinsics(18, device=device)\n",
    "\n",
    "with open('eg3d/eg3d_model/ffhqrebalanced512-128.pkl', 'rb') as f:\n",
    "    G = pickle.load(f)['G_ema'].cuda()  # torch.nn.Module\n",
    "c = torch.cat([cam2world_pose.reshape(-1, 16), intrinsics.reshape(-1, 9)], 1) # camera parameters\n",
    "# z = torch.randn([1, G.z_dim]).cuda()    # latent codes\n",
    "z = torch.tensor(znprecon).view(-1, 512).cuda()\n",
    "\n",
    "# img = G(z, c)['image']                           # NCHW, float32, dynamic range [-1, +1], no truncation\n",
    "\n",
    "cam_pivot = torch.tensor(G.rendering_kwargs.get('avg_camera_pivot', [0, 0, 0]), device=device)\n",
    "cam_radius = G.rendering_kwargs.get('avg_camera_radius', 2.7)\n",
    "cam2world_pose = LookAtPoseSampler.sample(np.pi/2, np.pi/2, cam_pivot, radius=cam_radius, device=device)\n",
    "conditioning_cam2world_pose = LookAtPoseSampler.sample(np.pi/2, np.pi/2, cam_pivot, radius=cam_radius, device=device)\n",
    "camera_params = torch.cat([cam2world_pose.reshape(-1, 16), intrinsics.reshape(-1, 9)], 1)\n",
    "conditioning_params = torch.cat([conditioning_cam2world_pose.reshape(-1, 16), intrinsics.reshape(-1, 9)], 1)\n",
    "w = G.mapping(z, conditioning_params, truncation_psi=0.5, truncation_cutoff=8)\n",
    "img = G.synthesis(w, camera_params)['image']\n"
   ]
  },
  {
   "cell_type": "code",
   "execution_count": null,
   "metadata": {},
   "outputs": [],
   "source": [
    "cpu_img = img.cpu().numpy()[0].transpose(1, 2, 0)\n",
    "plt.imshow(cpu_img)\n",
    "plt.show()\n",
    "\n",
    "print(np.amax(cpu_img[0]))"
   ]
  },
  {
   "cell_type": "code",
   "execution_count": null,
   "metadata": {},
   "outputs": [],
   "source": [
    "np.amin(z.cpu().numpy())"
   ]
  },
  {
   "cell_type": "code",
   "execution_count": null,
   "metadata": {},
   "outputs": [],
   "source": [
    "size = G.z_dim\n",
    "num = 10\n",
    "\n",
    "A = positionalEncoding(size, size)\n",
    "\n",
    "znp = np.tile(np.reshape(z[0].cpu().numpy(), (size, 1)), size)\n",
    "summed_matrix = A + znp\n",
    "\n",
    "znprecon = np.nanmean(product-A, axis=1)\n",
    "print(product[0][1])\n",
    "print(znprecon[0])\n",
    "\n",
    "matshow_prod = plt.matshow(summed_matrix)\n",
    "plt.gcf().colorbar(matshow_prod)\n",
    "plt.show()\n"
   ]
  }
 ],
 "metadata": {
  "kernelspec": {
   "display_name": "eg3d",
   "language": "python",
   "name": "eg3d"
  },
  "language_info": {
   "codemirror_mode": {
    "name": "ipython",
    "version": 3
   },
   "file_extension": ".py",
   "mimetype": "text/x-python",
   "name": "python",
   "nbconvert_exporter": "python",
   "pygments_lexer": "ipython3",
   "version": "3.9.13"
  },
  "vscode": {
   "interpreter": {
    "hash": "028272c06e43467b8f692d99e1767743678ae503c811b1242e11a4c410f8c2e0"
   }
  }
 },
 "nbformat": 4,
 "nbformat_minor": 4
}
