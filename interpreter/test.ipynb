{
 "cells": [
  {
   "cell_type": "code",
   "execution_count": 1,
   "id": "8884cba9-e181-4dc8-9254-21c5f5918216",
   "metadata": {},
   "outputs": [],
   "source": [
    "from deepface import DeepFace"
   ]
  },
  {
   "cell_type": "code",
   "execution_count": 2,
   "id": "957fa673-3b9b-47d1-937e-6236baf5e172",
   "metadata": {},
   "outputs": [],
   "source": [
    "models = [\n",
    "  \"VGG-Face\", \n",
    "  \"Facenet\", \n",
    "  \"Facenet512\", \n",
    "  \"OpenFace\", \n",
    "  \"DeepFace\", \n",
    "  \"DeepID\", \n",
    "  \"ArcFace\", \n",
    "  \"Dlib\", \n",
    "  \"SFace\",\n",
    "]\n",
    "\n",
    "embedding_objs = DeepFace.represent(img_path = \"data_color/imgs/0001.png\", \n",
    "      model_name = \"Facenet512\"\n",
    ")\n"
   ]
  },
  {
   "cell_type": "code",
   "execution_count": 8,
   "id": "e0ada6a1-2b99-44b6-b289-ee999e647559",
   "metadata": {},
   "outputs": [
    {
     "data": {
      "text/plain": [
       "512"
      ]
     },
     "execution_count": 8,
     "metadata": {},
     "output_type": "execute_result"
    }
   ],
   "source": [
    "len(embedding_objs[0]['embedding'])"
   ]
  },
  {
   "cell_type": "code",
   "execution_count": 14,
   "id": "9b5930ec-bf0e-44a6-82ed-c6654b6c347a",
   "metadata": {
    "tags": []
   },
   "outputs": [
    {
     "data": {
      "text/plain": [
       "[{'age': 34,\n",
       "  'region': {'x': 58, 'y': 29, 'w': 385, 'h': 385},\n",
       "  'gender': {'Woman': 0.000281260440715414, 'Man': 99.99971389770508},\n",
       "  'dominant_gender': 'Man',\n",
       "  'race': {'asian': 0.17462649725013954,\n",
       "   'indian': 0.5998794812637258,\n",
       "   'black': 0.020987287075898024,\n",
       "   'white': 74.23427547420714,\n",
       "   'middle eastern': 9.168500999718963,\n",
       "   'latino hispanic': 15.801730203731669},\n",
       "  'dominant_race': 'white',\n",
       "  'emotion': {'angry': 0.30072988010942936,\n",
       "   'disgust': 4.289007904390019e-06,\n",
       "   'fear': 14.772641658782959,\n",
       "   'happy': 1.8564298748970032,\n",
       "   'sad': 80.10688424110413,\n",
       "   'surprise': 0.011470907338662073,\n",
       "   'neutral': 2.9518447816371918},\n",
       "  'dominant_emotion': 'sad'}]"
      ]
     },
     "execution_count": 14,
     "metadata": {},
     "output_type": "execute_result"
    }
   ],
   "source": [
    "objs = DeepFace.analyze(img_path = \"data_color/imgs/0001.png\", \n",
    "        actions = ['age', 'gender', 'race', 'emotion'], silent=True\n",
    ")\n",
    "objs"
   ]
  },
  {
   "cell_type": "code",
   "execution_count": null,
   "id": "c6bd2788-05ec-4d35-af83-1228a7f0e6d0",
   "metadata": {},
   "outputs": [],
   "source": []
  },
  {
   "cell_type": "code",
   "execution_count": null,
   "id": "9e963fe1-5468-4e11-bcd3-11bb3c5db4a9",
   "metadata": {},
   "outputs": [],
   "source": []
  }
 ],
 "metadata": {
  "kernelspec": {
   "display_name": "Python 3 (ipykernel)",
   "language": "python",
   "name": "python3"
  },
  "language_info": {
   "codemirror_mode": {
    "name": "ipython",
    "version": 3
   },
   "file_extension": ".py",
   "mimetype": "text/x-python",
   "name": "python",
   "nbconvert_exporter": "python",
   "pygments_lexer": "ipython3",
   "version": "3.8.16"
  }
 },
 "nbformat": 4,
 "nbformat_minor": 5
}
