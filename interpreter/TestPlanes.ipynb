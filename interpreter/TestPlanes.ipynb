{
 "cells": [
  {
   "cell_type": "code",
   "execution_count": 1,
   "id": "ac22f2e2-b169-43fa-9daa-4339240961c7",
   "metadata": {
    "tags": []
   },
   "outputs": [],
   "source": [
    "import torch\n",
    "from eg3d_dataset import EG3DDataset"
   ]
  },
  {
   "cell_type": "code",
   "execution_count": 2,
   "id": "81060ceb-be10-4389-94dc-0692b78c3dcb",
   "metadata": {
    "tags": []
   },
   "outputs": [],
   "source": [
    "dataset = EG3DDataset('data', triplanes=True)"
   ]
  },
  {
   "cell_type": "code",
   "execution_count": 3,
   "id": "cc12fc8d-fb12-4ec2-9173-92d30318b30c",
   "metadata": {
    "tags": []
   },
   "outputs": [
    {
     "data": {
      "text/plain": [
       "torch.Size([96, 256, 256])"
      ]
     },
     "execution_count": 3,
     "metadata": {},
     "output_type": "execute_result"
    }
   ],
   "source": [
    "dataset[0]['triplanes'].shape"
   ]
  },
  {
   "cell_type": "code",
   "execution_count": 4,
   "id": "1e00ca7d-9be1-4589-b34d-86cb67a1f584",
   "metadata": {
    "tags": []
   },
   "outputs": [
    {
     "name": "stderr",
     "output_type": "stream",
     "text": [
      "2023-03-06 21:28:50.674545: I tensorflow/core/platform/cpu_feature_guard.cc:193] This TensorFlow binary is optimized with oneAPI Deep Neural Network Library (oneDNN) to use the following CPU instructions in performance-critical operations:  SSE4.1 SSE4.2 AVX AVX2 AVX512F AVX512_VNNI FMA\n",
      "To enable them in other operations, rebuild TensorFlow with the appropriate compiler flags.\n",
      "2023-03-06 21:28:50.748337: I tensorflow/core/util/port.cc:104] oneDNN custom operations are on. You may see slightly different numerical results due to floating-point round-off errors from different computation orders. To turn them off, set the environment variable `TF_ENABLE_ONEDNN_OPTS=0`.\n"
     ]
    }
   ],
   "source": [
    "from diffusers import UNet2DConditionModel"
   ]
  },
  {
   "cell_type": "code",
   "execution_count": 5,
   "id": "bcaf777c-89ab-4262-a15f-9d68a30e37cc",
   "metadata": {
    "tags": []
   },
   "outputs": [],
   "source": [
    "diffuser = UNet2DConditionModel(\n",
    "    sample_size=128,\n",
    "    in_channels=96,\n",
    "    out_channels=96,\n",
    "    layers_per_block=2,  # how many ResNet layers to use per UNet block\n",
    "    block_out_channels=(64, 128, 256, 256),  # the number of output channes for each UNet block\n",
    "    down_block_types = ('CrossAttnDownBlock2D', 'CrossAttnDownBlock2D', 'CrossAttnDownBlock2D', 'DownBlock2D'),\n",
    "    up_block_types = ('UpBlock2D', 'CrossAttnUpBlock2D', 'CrossAttnUpBlock2D', 'CrossAttnUpBlock2D'),\n",
    ")"
   ]
  },
  {
   "cell_type": "code",
   "execution_count": null,
   "id": "7a591232-0cf8-4a2c-997f-e32b84fc6e56",
   "metadata": {
    "tags": []
   },
   "outputs": [],
   "source": [
    "diffuser(dataset[0]['triplanes'].unsqueeze(0), 1, torch.tensor([10, 11, 12]))"
   ]
  },
  {
   "cell_type": "code",
   "execution_count": 6,
   "id": "373459a6-369e-4e90-a4c2-d744fc3e2778",
   "metadata": {
    "tags": []
   },
   "outputs": [],
   "source": [
    "diffuser = diffuser.to('cuda')"
   ]
  },
  {
   "cell_type": "code",
   "execution_count": null,
   "id": "ad4a3fe7-da1f-4a04-8864-e74d66d06435",
   "metadata": {
    "tags": []
   },
   "outputs": [],
   "source": [
    "out = diffuser(torch.zeros(1, 96, 128, 128).to('cuda'), 1, torch.zeros((1,1,1280)).to('cuda')).sample\n",
    "out"
   ]
  },
  {
   "cell_type": "code",
   "execution_count": 10,
   "id": "8feff71b-ed96-4c82-a169-a5913e7e52ff",
   "metadata": {
    "tags": []
   },
   "outputs": [],
   "source": [
    "lf = torch.nn.SmoothL1Loss()\n",
    "lf(out, torch.ones(out.shape, device='cuda')).backward()\n"
   ]
  },
  {
   "cell_type": "code",
   "execution_count": 1,
   "id": "de889836-391a-4e8c-bc3d-fde09a31f1f9",
   "metadata": {
    "tags": []
   },
   "outputs": [
    {
     "name": "stderr",
     "output_type": "stream",
     "text": [
      "2023-03-06 22:04:18.739603: I tensorflow/core/platform/cpu_feature_guard.cc:193] This TensorFlow binary is optimized with oneAPI Deep Neural Network Library (oneDNN) to use the following CPU instructions in performance-critical operations:  SSE4.1 SSE4.2 AVX AVX2 AVX512F AVX512_VNNI FMA\n",
      "To enable them in other operations, rebuild TensorFlow with the appropriate compiler flags.\n",
      "2023-03-06 22:04:18.812840: I tensorflow/core/util/port.cc:104] oneDNN custom operations are on. You may see slightly different numerical results due to floating-point round-off errors from different computation orders. To turn them off, set the environment variable `TF_ENABLE_ONEDNN_OPTS=0`.\n"
     ]
    }
   ],
   "source": [
    "from diffusers import DiffusionPipeline, DPMSolverMultistepScheduler\n",
    "import torch"
   ]
  },
  {
   "cell_type": "code",
   "execution_count": 6,
   "id": "d2241c90-d161-4e86-890b-0274d6026f8e",
   "metadata": {
    "tags": []
   },
   "outputs": [
    {
     "data": {
      "application/vnd.jupyter.widget-view+json": {
       "model_id": "39be376568bb4f23ac54410011b88eff",
       "version_major": 2,
       "version_minor": 0
      },
      "text/plain": [
       "Fetching 12 files:   0%|          | 0/12 [00:00<?, ?it/s]"
      ]
     },
     "metadata": {},
     "output_type": "display_data"
    }
   ],
   "source": [
    "repo_id = \"stabilityai/stable-diffusion-2-base\"\n",
    "# repo_id = \"stabilityai/stable-diffusion-x4-upscaler\"\n",
    "pipe = DiffusionPipeline.from_pretrained(repo_id, torch_dtype=torch.float16, revision=\"fp16\")"
   ]
  },
  {
   "cell_type": "code",
   "execution_count": 8,
   "id": "66ec1b49-768b-45f3-a546-f7f57a206b5e",
   "metadata": {
    "tags": []
   },
   "outputs": [
    {
     "data": {
      "text/plain": [
       "[320, 640, 1280, 1280]"
      ]
     },
     "execution_count": 8,
     "metadata": {},
     "output_type": "execute_result"
    }
   ],
   "source": [
    "pipe.unet.block_out_channels"
   ]
  },
  {
   "cell_type": "code",
   "execution_count": null,
   "id": "b29de23f-8c79-40d9-87e5-83166e46955e",
   "metadata": {},
   "outputs": [],
   "source": [
    "pipe.unet.sample_size"
   ]
  }
 ],
 "metadata": {
  "kernelspec": {
   "display_name": "Python 3 (ipykernel)",
   "language": "python",
   "name": "python3"
  },
  "language_info": {
   "codemirror_mode": {
    "name": "ipython",
    "version": 3
   },
   "file_extension": ".py",
   "mimetype": "text/x-python",
   "name": "python",
   "nbconvert_exporter": "python",
   "pygments_lexer": "ipython3",
   "version": "3.8.16"
  }
 },
 "nbformat": 4,
 "nbformat_minor": 5
}
