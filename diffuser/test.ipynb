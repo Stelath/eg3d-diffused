{
 "cells": [
  {
   "cell_type": "code",
   "execution_count": 71,
   "metadata": {},
   "outputs": [],
   "source": [
    "import torch\n",
    "import numpy as np\n",
    "import matplotlib.pyplot as plt\n",
    "import pickle\n",
    "import sys\n",
    "import os"
   ]
  },
  {
   "cell_type": "code",
   "execution_count": 2,
   "metadata": {},
   "outputs": [],
   "source": [
    "def getPositionEncoding(seq_len, d, n=10000):\n",
    "    P = np.zeros((seq_len, d))\n",
    "    for k in range(seq_len):\n",
    "        for i in np.arange(int(d/2)):\n",
    "            denominator = np.power(n, 2*i/d)\n",
    "            P[k, 2*i] = np.sin(k/denominator)\n",
    "            P[k, 2*i+1] = np.cos(k/denominator)\n",
    "    return P"
   ]
  },
  {
   "cell_type": "code",
   "execution_count": 47,
   "metadata": {},
   "outputs": [
    {
     "name": "stdout",
     "output_type": "stream",
     "text": [
      "5.537956861476521e-213\n",
      "9.999999531039165\n",
      "[[ 1.01815172e+00  0.00000000e+00 -1.86264515e-08 ... -1.77635684e-14\n",
      "  -8.88178420e-16  2.84217094e-14]\n",
      " [ 6.19631374e-09  1.01815172e+00 -1.75199509e-09 ... -4.26325641e-14\n",
      "  -1.06581410e-14  4.26325641e-14]\n",
      " [ 1.45407066e-08 -3.73034623e-08  1.01815178e+00 ... -2.13162821e-14\n",
      "  -1.15463195e-14  7.10542736e-14]\n",
      " ...\n",
      " [ 5.59978206e-10  8.64126861e-09 -8.72804737e-08 ...  1.01815172e+00\n",
      "  -3.28626015e-14 -7.10542736e-14]\n",
      " [ 2.38143570e-08  7.53155341e-09 -8.83353494e-08 ... -6.75015599e-14\n",
      "   1.01815172e+00 -4.26325641e-14]\n",
      " [ 3.10043267e-08 -3.15633331e-08 -4.44972442e-08 ... -4.61852778e-14\n",
      "  -3.10862447e-14  1.01815172e+00]]\n"
     ]
    },
    {
     "data": {
      "image/png": "[encoded data removed]",
      "text/plain": [
       "<Figure size 640x480 with 1 Axes>"
      ]
     },
     "metadata": {},
     "output_type": "display_data"
    }
   ],
   "source": [
    "size = 128\n",
    "num = 10\n",
    "\n",
    "A = getPositionEncoding(size, size) + (0.01*np.eye(size))\n",
    "inv = np.linalg.inv(A)\n",
    "\n",
    "print(np.linalg.det(A))\n",
    "\n",
    "product = np.matmul(A, np.matmul((10**(1/size))*np.eye(size), inv))\n",
    "print(np.linalg.det(product))\n",
    "\n",
    "print(product)\n",
    "\n",
    "plt.imshow(product, cmap='gray', interpolation='none')\n",
    "plt.show()"
   ]
  },
  {
   "cell_type": "code",
   "execution_count": 73,
   "metadata": {},
   "outputs": [
    {
     "name": "stderr",
     "output_type": "stream",
     "text": [
      "/home/stelath/miniconda3/envs/eg3d/lib/python3.8/site-packages/scipy/__init__.py:146: UserWarning: A NumPy version >=1.16.5 and <1.23.0 is required for this version of SciPy (detected version 1.23.4\n",
      "  warnings.warn(f\"A NumPy version >={np_minversion} and <{np_maxversion}\"\n"
     ]
    },
    {
     "ename": "NameError",
     "evalue": "name 'cam2world_pose' is not defined",
     "output_type": "error",
     "traceback": [
      "\u001b[0;31m---------------------------------------------------------------------------\u001b[0m",
      "\u001b[0;31mNameError\u001b[0m                                 Traceback (most recent call last)",
      "Cell \u001b[0;32mIn[73], line 6\u001b[0m\n\u001b[1;32m      4\u001b[0m     G \u001b[39m=\u001b[39m pickle\u001b[39m.\u001b[39mload(f)[\u001b[39m'\u001b[39m\u001b[39mG_ema\u001b[39m\u001b[39m'\u001b[39m]\u001b[39m.\u001b[39mcuda()  \u001b[39m# torch.nn.Module\u001b[39;00m\n\u001b[1;32m      5\u001b[0m z \u001b[39m=\u001b[39m torch\u001b[39m.\u001b[39mrandn([\u001b[39m1\u001b[39m, G\u001b[39m.\u001b[39mz_dim])\u001b[39m.\u001b[39mcuda()    \u001b[39m# latent codes\u001b[39;00m\n\u001b[0;32m----> 6\u001b[0m c \u001b[39m=\u001b[39m torch\u001b[39m.\u001b[39mcat([cam2world_pose\u001b[39m.\u001b[39mreshape(\u001b[39m-\u001b[39m\u001b[39m1\u001b[39m, \u001b[39m16\u001b[39m), intrinsics\u001b[39m.\u001b[39mreshape(\u001b[39m-\u001b[39m\u001b[39m1\u001b[39m, \u001b[39m9\u001b[39m)], \u001b[39m1\u001b[39m) \u001b[39m# camera parameters\u001b[39;00m\n\u001b[1;32m      7\u001b[0m img \u001b[39m=\u001b[39m G(z, c)[\u001b[39m'\u001b[39m\u001b[39mimage\u001b[39m\u001b[39m'\u001b[39m]                           \u001b[39m# NCHW, float32, dynamic range [-1, +1], no truncation\u001b[39;00m\n",
      "\u001b[0;31mNameError\u001b[0m: name 'cam2world_pose' is not defined"
     ]
    }
   ],
   "source": [
    "# Generate EG3D Images\n",
    "from camera_utils import LookAtPoseSampler, FOV_to_intrinsics\n",
    "cam2world_pose = LookAtPoseSampler.sample(3.14/2, 3.14/2, torch.tensor([0, 0, 0.2], device=device), radius=2.7, device=device)\n",
    "intrinsics = FOV_to_intrinsics(90, device='cpu')\n",
    "\n",
    "with open('ffhqrebalanced512-128.pkl', 'rb') as f:\n",
    "    G = pickle.load(f)['G_ema'].cuda()  # torch.nn.Module\n",
    "z = torch.randn([1, G.z_dim]).cuda()    # latent codes\n",
    "c = torch.cat([cam2world_pose.reshape(-1, 16), intrinsics.reshape(-1, 9)], 1) # camera parameters\n",
    "img = G(z, c)['image']                           # NCHW, float32, dynamic range [-1, +1], no truncation\n"
   ]
  },
  {
   "cell_type": "code",
   "execution_count": null,
   "metadata": {},
   "outputs": [],
   "source": [
    "plt.imshow(img)\n",
    "plt.show()"
   ]
  }
 ],
 "metadata": {
  "kernelspec": {
   "display_name": "eg3d",
   "language": "python",
   "name": "python3"
  },
  "language_info": {
   "codemirror_mode": {
    "name": "ipython",
    "version": 3
   },
   "file_extension": ".py",
   "mimetype": "text/x-python",
   "name": "python",
   "nbconvert_exporter": "python",
   "pygments_lexer": "ipython3",
   "version": "3.8.13"
  },
  "orig_nbformat": 4,
  "vscode": {
   "interpreter": {
    "hash": "028272c06e43467b8f692d99e1767743678ae503c811b1242e11a4c410f8c2e0"
   }
  }
 },
 "nbformat": 4,
 "nbformat_minor": 2
}
